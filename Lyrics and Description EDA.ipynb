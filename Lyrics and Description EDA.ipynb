{
 "cells": [
  {
   "cell_type": "markdown",
   "id": "7f79baf9",
   "metadata": {},
   "source": [
    "# ADS 509 Assignment 2.1: Tokenization, Normalization, Descriptive Statistics \n",
    "\n",
    "This notebook holds Assignment 2.1 for Module 2 in ADS 509, Applied Text Mining. Work through this notebook, writing code and answering questions where required. \n",
    "\n",
    "In the previous assignment you put together Twitter data and lyrics data on two artists. In this assignment we explore some of the textual features of those data sets. If, for some reason, you did not complete that previous assignment, data to use for this assignment can be found in the assignment materials section of Blackboard. \n",
    "\n",
    "This assignment asks you to write a short function to calculate some descriptive statistics on a piece of text. Then you are asked to find some interesting and unique statistics on your corpora. \n"
   ]
  },
  {
   "cell_type": "markdown",
   "id": "aae8e2e1",
   "metadata": {},
   "source": [
    "## General Assignment Instructions\n",
    "\n",
    "These instructions are included in every assignment, to remind you of the coding standards for the class. Feel free to delete this cell after reading it. \n",
    "\n",
    "One sign of mature code is conforming to a style guide. We recommend the [Google Python Style Guide](https://google.github.io/styleguide/pyguide.html). If you use a different style guide, please include a cell with a link. \n",
    "\n",
    "Your code should be relatively easy-to-read, sensibly commented, and clean. Writing code is a messy process, so please be sure to edit your final submission. Remove any cells that are not needed or parts of cells that contain unnecessary code. Remove inessential `import` statements and make sure that all such statements are moved into the designated cell. \n",
    "\n",
    "Make use of non-code cells for written commentary. These cells should be grammatical and clearly written. In some of these cells you will have questions to answer. The questions will be marked by a \"Q:\" and will have a corresponding \"A:\" spot for you. *Make sure to answer every question marked with a `Q:` for full credit.* \n"
   ]
  },
  {
   "cell_type": "code",
   "execution_count": 1,
   "id": "e2d096b7",
   "metadata": {},
   "outputs": [],
   "source": [
    "import os\n",
    "import re\n",
    "import emoji\n",
    "import pandas as pd\n",
    "import numpy as np\n",
    "\n",
    "from collections import Counter, defaultdict\n",
    "from nltk.corpus import stopwords\n",
    "from string import punctuation\n",
    "\n",
    "swe = stopwords.words(\"english\") + ['https', 'co']\n",
    "swi = stopwords.words(\"italian\")\n",
    "sws = stopwords.words(\"spanish\")\n",
    "swf = stopwords.words(\"french\")"
   ]
  },
  {
   "cell_type": "code",
   "execution_count": 2,
   "id": "6b555ab2",
   "metadata": {},
   "outputs": [],
   "source": [
    "# Add any additional import statements you need here\n",
    "import glob\n",
    "import string\n",
    "from nltk.tokenize import word_tokenize"
   ]
  },
  {
   "cell_type": "code",
   "execution_count": 3,
   "id": "923b5a86",
   "metadata": {},
   "outputs": [],
   "source": [
    "# change `data_location` to the location of the folder on your machine.\n",
    "data_location = \"/Users/dallinmunger/Desktop/USD_Work/ADS 509/Module 1/\"\n",
    "\n",
    "# These subfolders should still work if you correctly stored the \n",
    "# data from the Module 1 assignment\n",
    "twitter_folder = \"twitter/\"\n",
    "lyrics_folder = \"lyrics/\""
   ]
  },
  {
   "cell_type": "code",
   "execution_count": 4,
   "id": "06522af9",
   "metadata": {},
   "outputs": [],
   "source": [
    "def descriptive_stats(tokens, num_tokens = 5, verbose=True) :\n",
    "    \"\"\"\n",
    "        Given a list of tokens, print number of tokens, number of unique tokens, \n",
    "        number of characters, lexical diversity (https://en.wikipedia.org/wiki/Lexical_diversity), \n",
    "        and num_tokens most common tokens. Return a list with the number of tokens, number\n",
    "        of unique tokens, lexical diversity, and number of characters. \n",
    "    \n",
    "    \"\"\"\n",
    "\n",
    "    # Fill in the correct values here. \n",
    "    num_tokens = len(tokens)\n",
    "    num_unique_tokens = len(Counter(tokens))\n",
    "    lexical_diversity = num_unique_tokens/num_tokens\n",
    "    num_characters = sum([len(i) for i in tokens])\n",
    "    \n",
    "    if verbose :        \n",
    "        print(f\"There are {num_tokens} tokens in the data.\")\n",
    "        print(f\"There are {num_unique_tokens} unique tokens in the data.\")\n",
    "        print(f\"There are {num_characters} characters in the data.\")\n",
    "        print(f\"The lexical diversity is {lexical_diversity:.3f} in the data.\")\n",
    "    \n",
    "        # print the five most common tokens\n",
    "        print(Counter(tokens).most_common(5))\n",
    "    return([num_tokens, num_unique_tokens,\n",
    "            lexical_diversity,\n",
    "            num_characters])\n",
    "    "
   ]
  },
  {
   "cell_type": "code",
   "execution_count": 5,
   "id": "59dcf058",
   "metadata": {},
   "outputs": [
    {
     "name": "stdout",
     "output_type": "stream",
     "text": [
      "There are 13 tokens in the data.\n",
      "There are 9 unique tokens in the data.\n",
      "There are 55 characters in the data.\n",
      "The lexical diversity is 0.692 in the data.\n",
      "[('text', 3), ('here', 2), ('example', 2), ('is', 1), ('some', 1)]\n"
     ]
    }
   ],
   "source": [
    "text = \"\"\"here is some example text with other example text here in this text\"\"\".split()\n",
    "assert(descriptive_stats(text, verbose=True)[0] == 13)\n",
    "assert(descriptive_stats(text, verbose=False)[1] == 9)\n",
    "assert(abs(descriptive_stats(text, verbose=False)[2] - 0.69) < 0.02)\n",
    "assert(descriptive_stats(text, verbose=False)[3] == 55)"
   ]
  },
  {
   "cell_type": "markdown",
   "id": "d2e7e1a2",
   "metadata": {},
   "source": [
    "Q: Why is it beneficial to use assertion statements in your code? \n",
    "\n",
    "A: Assert statements allow you to catch any issues in your code before you continue to move forward. It makes the debugging process easier."
   ]
  },
  {
   "cell_type": "markdown",
   "id": "9d3bf93e",
   "metadata": {},
   "source": [
    "## Data Input\n",
    "\n",
    "Now read in each of the corpora. For the lyrics data, it may be convenient to store the entire contents of the file to make it easier to inspect the titles individually, as you'll do in the last part of the assignment. In the solution, I stored the lyrics data in a dictionary with two dimensions of keys: artist and song. The value was the file contents. A data frame would work equally well. \n",
    "\n",
    "For the Twitter data, we only need the description field for this assignment. Feel free all the descriptions read it into a data structure. In the solution, I stored the descriptions as a dictionary of lists, with the key being the artist. \n",
    "\n",
    "\n"
   ]
  },
  {
   "cell_type": "code",
   "execution_count": 6,
   "id": "37d70801",
   "metadata": {},
   "outputs": [],
   "source": [
    "artists = ['andreabocelli', 'joshgroban']\n",
    "# Read in the lyrics data\n",
    "\n",
    "# Create empty lists\n",
    "songs = []\n",
    "title = []\n",
    "artist_name = []\n",
    "for i in range(len(artists)):\n",
    "    # Create path to files\n",
    "    name = data_location + lyrics_folder + artists[i] + '/*.txt'\n",
    "    # Read in all song files, add to list\n",
    "    songs.append([open(filename).read() for filename in glob.glob(name)])\n",
    "    # Extract title from the songs, add to list\n",
    "    title.append([re.findall(r'\"([^\"]*)\"', i) for i in songs[i]])\n",
    "    # Create list of artist name\n",
    "    artist_name.append([artists[i]]*len(songs[i]))\n",
    "lyrics_df = pd.DataFrame()\n",
    "title = title[0] + title[1]\n",
    "lyrics_df['title'] = sum(title, [])\n",
    "lyrics_df['artist_name'] = artist_name[0] + artist_name[1]\n",
    "lyrics_df['songs'] = songs[0] + songs[1]"
   ]
  },
  {
   "cell_type": "code",
   "execution_count": 7,
   "id": "debcac5a",
   "metadata": {},
   "outputs": [],
   "source": [
    "# Read in the twitter data\n",
    "bocelli_followers = pd.read_csv(data_location + twitter_folder + '/AndreaBocelli_followers_data.txt', sep = '\\t')\n",
    "groban_followers = pd.read_csv(data_location + twitter_folder + '/joshgroban_followers_data.txt', sep = '\\t')\n",
    "# Create twitter df with artist name as one column, descriptions as the other\n",
    "twitter_df = pd.DataFrame()\n",
    "twitter_df['artist_name'] = ['andreabocelli']*len(bocelli_followers) + ['joshgroban']*len(groban_followers)\n",
    "twitter_df['description'] = pd.concat([bocelli_followers['description'],groban_followers['description']], axis = 0, ignore_index = True)"
   ]
  },
  {
   "cell_type": "markdown",
   "id": "6a5f3b12",
   "metadata": {},
   "source": [
    "## Data Cleaning\n",
    "\n",
    "Now clean and tokenize your data. Remove punctuation chacters (available in the `punctuation` object in the `string` library), split on whitespace, fold to lowercase, and remove stopwords. Store your cleaned data, which must be accessible as an interable for `descriptive_stats`, in new objects or in new columns in your data frame. \n",
    "\n"
   ]
  },
  {
   "cell_type": "code",
   "execution_count": 8,
   "id": "71c73d86",
   "metadata": {},
   "outputs": [],
   "source": [
    "# Add '’' to the string\n",
    "punctuation = punctuation + '’'\n",
    "# Remove '#' from the string\n",
    "punctuation = punctuation.replace('#', '')\n",
    "punctuation = set(punctuation) # speeds up comparison "
   ]
  },
  {
   "cell_type": "code",
   "execution_count": 9,
   "id": "b327033a",
   "metadata": {},
   "outputs": [],
   "source": [
    "# create your clean twitter data here\n",
    "# Set all NAs to blank text\n",
    "twitter_df = twitter_df.fillna('')\n",
    "# Create function to clean text data\n",
    "def clean_text_data(column):\n",
    "    new_description = []\n",
    "    for description in column:\n",
    "        update_desc = description\n",
    "        # Remove the punctuation from each description\n",
    "        for i in description:\n",
    "            if i in punctuation:\n",
    "                update_desc = update_desc.replace(i, \" \")\n",
    "        # Remove extra white space\n",
    "        update_desc = re.sub(r'\\s+', ' ', update_desc)\n",
    "        # Split on whitespace\n",
    "        update_desc = update_desc.split()\n",
    "        update_desc = sum([emoji.get_emoji_regexp().split(i) for i in update_desc],[])\n",
    "        # Fold to lowercase\n",
    "        for i in range(len(update_desc)):\n",
    "            update_desc[i] = update_desc[i].lower()\n",
    "        # Remove stopwords\n",
    "        update_desc = [i for i in update_desc if i not in swe and i not in swi and i not in sws and i not in swf]\n",
    "        # Remove blank items\n",
    "        update_desc = [j for j in update_desc if j]\n",
    "        new_description.append(update_desc)\n",
    "    return new_description\n",
    "\n",
    "# Clean twitter descriptions and add as new column\n",
    "twitter_df['cleaned_description'] = clean_text_data(twitter_df['description'])"
   ]
  },
  {
   "cell_type": "code",
   "execution_count": 10,
   "id": "e0f22e10",
   "metadata": {},
   "outputs": [],
   "source": [
    "# create your clean lyrics data here\n",
    "lyrics_df['cleaned_lyrics'] = clean_text_data(lyrics_df['songs'])"
   ]
  },
  {
   "cell_type": "markdown",
   "id": "f2dd0179",
   "metadata": {},
   "source": [
    "## Basic Descriptive Statistics\n",
    "\n",
    "Call your `descriptive_stats` function on both your lyrics data and your twitter data and for both artists (four total calls). "
   ]
  },
  {
   "cell_type": "code",
   "execution_count": 11,
   "id": "f0bbedd9",
   "metadata": {},
   "outputs": [
    {
     "name": "stdout",
     "output_type": "stream",
     "text": [
      "Andrea Bocelli Lyrics:\n",
      "There are 1679 tokens in the data.\n",
      "There are 837 unique tokens in the data.\n",
      "There are 9313 characters in the data.\n",
      "The lexical diversity is 0.499 in the data.\n",
      "[('vivo', 33), ('mai', 24), ('vita', 23), ('amore', 22), ('vivere', 22)]\n",
      "\n",
      "Josh Groban Lyrics:\n",
      "There are 1700 tokens in the data.\n",
      "There are 806 unique tokens in the data.\n",
      "There are 9191 characters in the data.\n",
      "The lexical diversity is 0.474 in the data.\n",
      "[('amore', 28), ('love', 21), ('say', 19), ('still', 18), ('sempre', 17)]\n",
      "\n",
      "Andrea Bocelli Followers:\n",
      "There are 25239 tokens in the data.\n",
      "There are 12430 unique tokens in the data.\n",
      "There are 142138 characters in the data.\n",
      "The lexical diversity is 0.492 in the data.\n",
      "[('love', 165), ('❤️', 121), ('music', 118), ('life', 109), ('fan', 81)]\n",
      "\n",
      "Josh Groban Followers:\n",
      "There are 29715 tokens in the data.\n",
      "There are 11297 unique tokens in the data.\n",
      "There are 165738 characters in the data.\n",
      "The lexical diversity is 0.380 in the data.\n",
      "[('love', 332), ('music', 214), ('life', 179), ('fan', 166), ('lover', 145)]\n"
     ]
    },
    {
     "data": {
      "text/plain": [
       "[29715, 11297, 0.380178361097089, 165738]"
      ]
     },
     "execution_count": 11,
     "metadata": {},
     "output_type": "execute_result"
    }
   ],
   "source": [
    "# calls to descriptive_stats here\n",
    "# Andrea Bocelli lyrics\n",
    "print(\"Andrea Bocelli Lyrics:\")\n",
    "descriptive_stats(sum(lyrics_df.loc[lyrics_df['artist_name'] == 'andreabocelli', 'cleaned_lyrics'], []))\n",
    "# Josh Groban lyrics\n",
    "print(\"\\nJosh Groban Lyrics:\")\n",
    "descriptive_stats(sum(lyrics_df.loc[lyrics_df['artist_name'] == 'joshgroban', 'cleaned_lyrics'], []))\n",
    "#Andrew Bocelli followers\n",
    "print(\"\\nAndrea Bocelli Followers:\")\n",
    "descriptive_stats(sum(twitter_df.loc[twitter_df['artist_name'] == 'andreabocelli', 'cleaned_description'], []))\n",
    "#Josh Groban followers\n",
    "print(\"\\nJosh Groban Followers:\")\n",
    "descriptive_stats(sum(twitter_df.loc[twitter_df['artist_name'] == 'joshgroban', 'cleaned_description'], []))"
   ]
  },
  {
   "cell_type": "markdown",
   "id": "46294409",
   "metadata": {},
   "source": [
    "Q: How do you think the \"top 5 words\" would be different if we left stopwords in the data? \n",
    "\n",
    "A: The top 5 words would likely consist primarily of stopwords.\n",
    "\n",
    "---\n",
    "\n",
    "Q: What were your prior beliefs about the lexical diversity between the artists? Does the difference (or lack thereof) in lexical diversity between the artists conform to your prior beliefs? \n",
    "\n",
    "A: I believed before that they would be similar since they are in the same genre and sing similar songs. The similarity confirms my prior beliefs, and it is interesting to see how almost identical they are in lexical diversity.\n"
   ]
  },
  {
   "cell_type": "markdown",
   "id": "4d4e1ac1",
   "metadata": {},
   "source": [
    "\n",
    "## Specialty Statistics\n",
    "\n",
    "The descriptive statistics we have calculated are quite generic. You will now calculate a handful of statistics tailored to these data.\n",
    "\n",
    "1. Ten most common emojis by artist in the twitter descriptions.\n",
    "1. Ten most common hashtags by artist in the twitter descriptions.\n",
    "1. Five most common words in song titles by artist. \n",
    "1. For each artist, a histogram of song lengths (in terms of number of tokens) \n",
    "\n",
    "We can use the `emoji` library to help us identify emojis and you have been given a function to help you.\n"
   ]
  },
  {
   "cell_type": "code",
   "execution_count": 12,
   "id": "753a5a3e",
   "metadata": {},
   "outputs": [],
   "source": [
    "def is_emoji(s):\n",
    "    return(s in emoji.UNICODE_EMOJI['en'])\n",
    "\n",
    "assert(is_emoji(\"❤️\"))\n",
    "assert(not is_emoji(\":-)\"))"
   ]
  },
  {
   "cell_type": "markdown",
   "id": "986fc4c0",
   "metadata": {},
   "source": [
    "### Emojis 😁\n",
    "\n",
    "What are the ten most common emojis by artist in the twitter descriptions? \n"
   ]
  },
  {
   "cell_type": "code",
   "execution_count": 13,
   "id": "269cd433",
   "metadata": {},
   "outputs": [
    {
     "name": "stdout",
     "output_type": "stream",
     "text": [
      "Andrea Bocelli most common emojis:\n",
      "[('❤️', 121), ('💙', 76), ('❤', 61), ('✨', 55), ('💜', 55), ('🇺🇸', 40), ('🌊', 40), ('💛', 36), ('📚', 30), ('🎶', 30)]\n",
      "\n",
      "Josh Groban most common emojis:\n",
      "[('❤️', 110), ('🌸', 70), ('💙', 68), ('❤', 65), ('✨', 54), ('🇺🇸', 53), ('🎶', 51), ('🏳️\\u200d🌈', 51), ('💜', 39), ('💕', 33)]\n"
     ]
    }
   ],
   "source": [
    "def count_emojis(artist):\n",
    "    # Create list with all words in all descriptions for each artist\n",
    "    descriptions = sum(twitter_df.loc[twitter_df['artist_name'] == artist, 'cleaned_description'], [])\n",
    "    # Filter lists to include only emojis\n",
    "    emojis = [i for i in descriptions if is_emoji(i)]\n",
    "    # Count ten most common emojis\n",
    "    return print(Counter(emojis).most_common(10))\n",
    "print('Andrea Bocelli most common emojis:')\n",
    "count_emojis('andreabocelli')\n",
    "print('\\nJosh Groban most common emojis:')\n",
    "count_emojis('joshgroban')"
   ]
  },
  {
   "cell_type": "markdown",
   "id": "bab9b770",
   "metadata": {},
   "source": [
    "### Hashtags\n",
    "\n",
    "What are the ten most common hashtags by artist in the twitter descriptions? \n"
   ]
  },
  {
   "cell_type": "code",
   "execution_count": 14,
   "id": "07c396f1",
   "metadata": {},
   "outputs": [
    {
     "name": "stdout",
     "output_type": "stream",
     "text": [
      "Andrea Bocelli most common hashtagas:\n",
      "[('#bitcoin', 13), ('#blm', 7), ('#music', 6), ('#resist', 5), ('#voteblue', 4), ('#standwithukraine', 3), ('#btc', 3), ('#science', 3), ('#travel', 3), ('#mufc', 3)]\n",
      "\n",
      "Josh Groban most common hashtags:\n",
      "[('#blm', 14), ('#blacklivesmatter', 11), ('#actuallyautistic', 5), ('#bekind', 5), ('#resist', 5), ('#writer', 4), ('#standwithukraine', 4), ('#maga', 4), ('#autism', 4), ('#music', 4)]\n"
     ]
    }
   ],
   "source": [
    "def count_hashtags(artist):\n",
    "    # Create list with all words in all descriptions for each artist\n",
    "    descriptions = sum(twitter_df.loc[twitter_df['artist_name'] == artist, 'cleaned_description'], [])\n",
    "    # Filter to only include hashtags\n",
    "    hashtags = [i for i in descriptions if i.startswith('#') and len(i) > 1]\n",
    "    # Count ten most common hashtags\n",
    "    return print(Counter(hashtags).most_common(10))\n",
    "print('Andrea Bocelli most common hashtagas:')\n",
    "count_hashtags('andreabocelli')\n",
    "print('\\nJosh Groban most common hashtags:')\n",
    "count_hashtags('joshgroban')"
   ]
  },
  {
   "cell_type": "markdown",
   "id": "d10f21d5",
   "metadata": {},
   "source": [
    "### Song Titles\n",
    "\n",
    "What are the five most common words in song titles by artist? The song titles should be on the first line of the lyrics pages, so if you have kept the raw file contents around, you will not need to re-read the data.\n"
   ]
  },
  {
   "cell_type": "code",
   "execution_count": 15,
   "id": "bb69b36b",
   "metadata": {},
   "outputs": [
    {
     "name": "stdout",
     "output_type": "stream",
     "text": [
      "Andrea Bocelli most common title words (Without stop words):\n",
      "[('vivo', 1), ('lucevan', 1), ('stelle', 1), ('vivere', 1), ('caruso', 1)]\n",
      "\n",
      "Josh Groban most common title words (Without stop words):\n",
      "[('sempre', 2), ('starry', 2), ('oceano', 1), ('amore', 1), ('cinema', 1)]\n"
     ]
    }
   ],
   "source": [
    "# Clean the title column for lyrics\n",
    "lyrics_df['title'] = clean_text_data(lyrics_df['title'])\n",
    "# Filter by artist and create list of all title words\n",
    "bocelli_titles = sum(lyrics_df.loc[lyrics_df['artist_name'] == 'andreabocelli', 'title'], [])\n",
    "groban_titles = sum(lyrics_df.loc[lyrics_df['artist_name'] == 'joshgroban', 'title'], [])\n",
    "print('Andrea Bocelli most common title words (Without stop words):')\n",
    "print(Counter(bocelli_titles).most_common(5))\n",
    "print('\\nJosh Groban most common title words (Without stop words):')\n",
    "print(Counter(groban_titles).most_common(5))"
   ]
  },
  {
   "cell_type": "markdown",
   "id": "5dd4fd71",
   "metadata": {},
   "source": [
    "### Song Lengths\n",
    "\n",
    "For each artist, a histogram of song lengths (in terms of number of tokens). If you put the song lengths in a data frame with an artist column, matplotlib will make the plotting quite easy. An example is given to help you out. \n"
   ]
  },
  {
   "cell_type": "code",
   "execution_count": 16,
   "id": "805a1e52",
   "metadata": {},
   "outputs": [
    {
     "data": {
      "text/plain": [
       "artist\n",
       "Artist 1    AxesSubplot(0.125,0.125;0.775x0.755)\n",
       "Artist 2    AxesSubplot(0.125,0.125;0.775x0.755)\n",
       "Name: length, dtype: object"
      ]
     },
     "execution_count": 16,
     "metadata": {},
     "output_type": "execute_result"
    },
    {
     "data": {
      "image/png": "[encoded data removed]",
      "text/plain": [
       "<Figure size 432x288 with 1 Axes>"
      ]
     },
     "metadata": {
      "needs_background": "light"
     },
     "output_type": "display_data"
    }
   ],
   "source": [
    "num_replicates = 1000\n",
    "\n",
    "df = pd.DataFrame({\n",
    "    \"artist\" : ['Artist 1'] * num_replicates + ['Artist 2']*num_replicates,\n",
    "    \"length\" : np.concatenate((np.random.poisson(125,num_replicates),np.random.poisson(150,num_replicates)))\n",
    "})\n",
    "\n",
    "df.groupby('artist')['length'].plot(kind=\"hist\",density=True,alpha=0.5,legend=True)"
   ]
  },
  {
   "cell_type": "markdown",
   "id": "8fde9ebb",
   "metadata": {},
   "source": [
    "Since the lyrics may be stored with carriage returns or tabs, it may be useful to have a function that can collapse whitespace, using regular expressions, and be used for splitting. \n",
    "\n",
    "Q: What does the regular expression `'\\s+'` match on? \n",
    "\n",
    "A: It matches any number of whitespace characters.\n"
   ]
  },
  {
   "cell_type": "code",
   "execution_count": 17,
   "id": "f0e34516",
   "metadata": {},
   "outputs": [],
   "source": [
    "collapse_whitespace = re.compile(r'\\s+')\n",
    "\n",
    "def tokenize_lyrics(lyric) : \n",
    "    \"\"\"strip and split on whitespace\"\"\"\n",
    "    return([item.lower() for item in collapse_whitespace.split(lyric)])"
   ]
  },
  {
   "cell_type": "code",
   "execution_count": 18,
   "id": "2294c440",
   "metadata": {},
   "outputs": [
    {
     "data": {
      "text/plain": [
       "artist_name\n",
       "andreabocelli    AxesSubplot(0.125,0.125;0.775x0.755)\n",
       "joshgroban       AxesSubplot(0.125,0.125;0.775x0.755)\n",
       "Name: length, dtype: object"
      ]
     },
     "execution_count": 18,
     "metadata": {},
     "output_type": "execute_result"
    },
    {
     "data": {
      "image/png": "[encoded data removed]",
      "text/plain": [
       "<Figure size 432x288 with 1 Axes>"
      ]
     },
     "metadata": {
      "needs_background": "light"
     },
     "output_type": "display_data"
    }
   ],
   "source": [
    "# Your lyric length comparison chart here. \n",
    "# Tokenize and calculate length\n",
    "lyrics_df['tokenized_lyrics'] = [tokenize_lyrics(i) for i in lyrics_df['songs']]\n",
    "lyrics_df['length'] = [len(i) for i in lyrics_df['tokenized_lyrics']]\n",
    "# Create the chart\n",
    "lyrics_df.groupby('artist_name')['length'].plot(kind=\"hist\",density=True,alpha=0.5,legend=True)"
   ]
  }
 ],
 "metadata": {
  "kernelspec": {
   "display_name": "Python 3 (ipykernel)",
   "language": "python",
   "name": "python3"
  },
  "language_info": {
   "codemirror_mode": {
    "name": "ipython",
    "version": 3
   },
   "file_extension": ".py",
   "mimetype": "text/x-python",
   "name": "python",
   "nbconvert_exporter": "python",
   "pygments_lexer": "ipython3",
   "version": "3.9.7"
  }
 },
 "nbformat": 4,
 "nbformat_minor": 5
}
